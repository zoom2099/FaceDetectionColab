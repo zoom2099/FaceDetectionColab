{
  "cells": [
    {
      "cell_type": "markdown",
      "metadata": {
        "id": "view-in-github",
        "colab_type": "text"
      },
      "source": [
        "<a href=\"https://colab.research.google.com/github/zoom2099/FaceDetectionColab/blob/main/FaceDetection.ipynb\" target=\"_parent\"><img src=\"https://colab.research.google.com/assets/colab-badge.svg\" alt=\"Open In Colab\"/></a>"
      ]
    },
    {
      "cell_type": "code",
      "execution_count": null,
      "id": "51d2ad92",
      "metadata": {
        "id": "51d2ad92"
      },
      "outputs": [],
      "source": [
        "import numpy as np\n",
        "import time\n",
        "import cv2 as cv2"
      ]
    },
    {
      "cell_type": "code",
      "execution_count": null,
      "id": "915d1f46",
      "metadata": {
        "id": "915d1f46"
      },
      "outputs": [],
      "source": [
        "faceCascade=cv2.CascadeClassifier('C:\\\\Users\\\\bbeyo\\\\Desktop\\\\haarcascade_frontalface_default.xml')\n",
        "\n",
        "cap = cv2.VideoCapture(0)\n",
        "while True:\n",
        "    ignore,  frame = cap.read()\n",
        "    frameGray=cv2.cvtColor(frame, cv2.COLOR_BGR2GRAY)\n",
        "    faces=faceCascade.detectMultiScale(frameGray, 1.3, 5)\n",
        "    for face in faces:\n",
        "        x, y, w, h=face\n",
        "        cv2.rectangle(frame,(x, y),(x+w, y+h),(255, 0, 0), 3)\n",
        "    cv2.imshow('FaceDet', frame)\n",
        "    cv2.moveWindow('FaceDet', 0, 0)\n",
        "    if cv2.waitKey(1) & 0xff ==ord('q'):\n",
        "        break\n",
        "cap.release()\n",
        "cv2.destroyAllWindows()"
      ]
    },
    {
      "cell_type": "code",
      "execution_count": null,
      "id": "8854dfb2",
      "metadata": {
        "id": "8854dfb2"
      },
      "outputs": [],
      "source": []
    }
  ],
  "metadata": {
    "kernelspec": {
      "display_name": "Python 3 (ipykernel)",
      "language": "python",
      "name": "python3"
    },
    "language_info": {
      "codemirror_mode": {
        "name": "ipython",
        "version": 3
      },
      "file_extension": ".py",
      "mimetype": "text/x-python",
      "name": "python",
      "nbconvert_exporter": "python",
      "pygments_lexer": "ipython3",
      "version": "3.9.13"
    },
    "colab": {
      "provenance": [],
      "include_colab_link": true
    }
  },
  "nbformat": 4,
  "nbformat_minor": 5
}